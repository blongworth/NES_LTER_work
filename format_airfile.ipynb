{
 "cells": [
  {
   "cell_type": "code",
   "execution_count": 2,
   "metadata": {},
   "outputs": [],
   "source": [
    "import pandas as pd\n",
    "import datetime"
   ]
  },
  {
   "cell_type": "code",
   "execution_count": 3,
   "metadata": {},
   "outputs": [],
   "source": [
    "airdat = pd.read_csv(\"data/manual_air_switch.csv\")"
   ]
  },
  {
   "cell_type": "code",
   "execution_count": 4,
   "metadata": {},
   "outputs": [
    {
     "data": {
      "text/html": [
       "<div>\n",
       "<style scoped>\n",
       "    .dataframe tbody tr th:only-of-type {\n",
       "        vertical-align: middle;\n",
       "    }\n",
       "\n",
       "    .dataframe tbody tr th {\n",
       "        vertical-align: top;\n",
       "    }\n",
       "\n",
       "    .dataframe thead th {\n",
       "        text-align: right;\n",
       "    }\n",
       "</style>\n",
       "<table border=\"1\" class=\"dataframe\">\n",
       "  <thead>\n",
       "    <tr style=\"text-align: right;\">\n",
       "      <th></th>\n",
       "      <th>date</th>\n",
       "      <th>time</th>\n",
       "      <th>switch_to</th>\n",
       "      <th>who</th>\n",
       "      <th>comment</th>\n",
       "    </tr>\n",
       "  </thead>\n",
       "  <tbody>\n",
       "    <tr>\n",
       "      <th>0</th>\n",
       "      <td>2021-11-08</td>\n",
       "      <td>17:15:00</td>\n",
       "      <td>air</td>\n",
       "      <td>BEL</td>\n",
       "      <td>NaN</td>\n",
       "    </tr>\n",
       "    <tr>\n",
       "      <th>1</th>\n",
       "      <td>2021-11-08</td>\n",
       "      <td>18:20:00</td>\n",
       "      <td>water</td>\n",
       "      <td>BEL</td>\n",
       "      <td>10 min after underway start</td>\n",
       "    </tr>\n",
       "    <tr>\n",
       "      <th>2</th>\n",
       "      <td>2021-11-08</td>\n",
       "      <td>19:56:00</td>\n",
       "      <td>air</td>\n",
       "      <td>BEL</td>\n",
       "      <td>NaN</td>\n",
       "    </tr>\n",
       "    <tr>\n",
       "      <th>3</th>\n",
       "      <td>2021-11-08</td>\n",
       "      <td>20:13:00</td>\n",
       "      <td>water</td>\n",
       "      <td>BEL</td>\n",
       "      <td>NaN</td>\n",
       "    </tr>\n",
       "    <tr>\n",
       "      <th>4</th>\n",
       "      <td>2021-11-08</td>\n",
       "      <td>20:13:00</td>\n",
       "      <td>air</td>\n",
       "      <td>BEL</td>\n",
       "      <td>NaN</td>\n",
       "    </tr>\n",
       "    <tr>\n",
       "      <th>5</th>\n",
       "      <td>2021-11-08</td>\n",
       "      <td>21:49:00</td>\n",
       "      <td>water</td>\n",
       "      <td>BEL</td>\n",
       "      <td>NaN</td>\n",
       "    </tr>\n",
       "  </tbody>\n",
       "</table>\n",
       "</div>"
      ],
      "text/plain": [
       "         date      time switch_to  who                      comment\n",
       "0  2021-11-08  17:15:00       air  BEL                          NaN\n",
       "1  2021-11-08  18:20:00     water  BEL  10 min after underway start\n",
       "2  2021-11-08  19:56:00       air  BEL                          NaN\n",
       "3  2021-11-08  20:13:00     water  BEL                          NaN\n",
       "4  2021-11-08  20:13:00       air  BEL                          NaN\n",
       "5  2021-11-08  21:49:00     water  BEL                          NaN"
      ]
     },
     "execution_count": 4,
     "metadata": {},
     "output_type": "execute_result"
    }
   ],
   "source": [
    "airdat"
   ]
  },
  {
   "cell_type": "code",
   "execution_count": 11,
   "metadata": {},
   "outputs": [
    {
     "data": {
      "text/plain": [
       "0   2021-11-08 17:15:00\n",
       "1   2021-11-08 18:20:00\n",
       "2   2021-11-08 19:56:00\n",
       "3   2021-11-08 20:13:00\n",
       "4   2021-11-08 20:13:00\n",
       "5   2021-11-08 21:49:00\n",
       "dtype: datetime64[ns]"
      ]
     },
     "execution_count": 11,
     "metadata": {},
     "output_type": "execute_result"
    }
   ],
   "source": [
    "pd.to_datetime(airdat['date'] + ' ' + airdat['time'])"
   ]
  },
  {
   "cell_type": "code",
   "execution_count": 17,
   "metadata": {},
   "outputs": [
    {
     "name": "stdout",
     "output_type": "stream",
     "text": [
      "11/08/21\n",
      "11/08/21\n",
      "11/08/21\n",
      "11/08/21\n",
      "11/08/21\n",
      "11/08/21\n"
     ]
    }
   ],
   "source": [
    "for date in airdat['date']:\n",
    "    print(datetime.datetime.strptime(date, '%Y-%m-%d').strftime('%m/%d/%y'))\n",
    "    "
   ]
  },
  {
   "cell_type": "code",
   "execution_count": 5,
   "metadata": {},
   "outputs": [
    {
     "name": "stdout",
     "output_type": "stream",
     "text": [
      "11/08/21\n",
      "11/08/21\n",
      "11/08/21\n",
      "11/08/21\n",
      "11/08/21\n",
      "11/08/21\n"
     ]
    },
    {
     "data": {
      "text/plain": [
       "[None, None, None, None, None, None]"
      ]
     },
     "execution_count": 5,
     "metadata": {},
     "output_type": "execute_result"
    }
   ],
   "source": [
    "[print(datetime.datetime.strptime(date, '%Y-%m-%d').strftime('%m/%d/%y')) for date in airdat['date']]"
   ]
  }
 ],
 "metadata": {
  "interpreter": {
   "hash": "6d1f902adfd03076637c5298974a61f812de3a1a11ab95186862b4a8a09dff33"
  },
  "kernelspec": {
   "display_name": "Python 3.8.1 64-bit (system)",
   "language": "python",
   "name": "python3"
  },
  "language_info": {
   "codemirror_mode": {
    "name": "ipython",
    "version": 3
   },
   "file_extension": ".py",
   "mimetype": "text/x-python",
   "name": "python",
   "nbconvert_exporter": "python",
   "pygments_lexer": "ipython3",
   "version": "3.8.1"
  },
  "orig_nbformat": 4
 },
 "nbformat": 4,
 "nbformat_minor": 2
}
